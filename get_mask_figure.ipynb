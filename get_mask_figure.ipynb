{
 "cells": [
  {
   "cell_type": "code",
   "execution_count": 95,
   "id": "f28472a2",
   "metadata": {},
   "outputs": [],
   "source": [
    "from PIL import Image\n",
    "import numpy as np\n",
    "import matplotlib.pyplot as plt\n",
    "\n",
    "fresh = np.sum(np.array(Image.open(r'C:\\Users\\romai\\Documents\\illustrators\\pathology_protocol\\imgs\\effect_freezing\\2023-04-06_T_FRE-FR-T0_FR_S2_1\\polarimetry\\550nm\\50x50_images\\WM_2\\selection.png')), axis = 2) == 0\n",
    "kernel = np.ones((4, 4), np.uint8)\n",
    "fresh = cv2.dilate(fresh.astype(np.uint8), kernel, iterations=1) == 0\n",
    "img_RGBA = np.array(Image.fromarray(fresh).convert('RGBA'))\n",
    "img_final = np.zeros(img_RGBA.shape)\n",
    "for idx, x in enumerate(img_RGBA):\n",
    "    for idy, y in enumerate(x):\n",
    "        if sum(y) == 4*255:\n",
    "            img_final[idx, idy] = [0,0,0,0]\n",
    "        else:\n",
    "            img_final[idx, idy] = [255,255,255,255]\n",
    "Image.fromarray(img_final.astype(np.uint8)).save(r'C:\\Users\\romai\\Documents\\illustrators\\pathology_protocol\\imgs\\effect_freezing\\2023-04-06_T_FRE-FR-T0_FR_S2_1\\polarimetry\\550nm\\50x50_images\\WM_2\\selected.png')"
   ]
  },
  {
   "cell_type": "code",
   "execution_count": 106,
   "id": "3572ff1e",
   "metadata": {},
   "outputs": [],
   "source": [
    "import cv2\n",
    "thawed = np.sum(np.array(Image.open(r'C:\\Users\\romai\\Documents\\illustrators\\pathology_protocol\\imgs\\effect_freezing\\2023-06-30_T_FRE-FR-T1_FR_S2_1\\polarimetry\\550nm\\50x50_images\\WM_2_align\\selection.png')), axis = 2) == 0\n",
    "kernel = np.ones((5, 5), np.uint8)\n",
    "thawed = cv2.dilate(thawed.astype(np.uint8), kernel, iterations=1) == 0\n",
    "img_RGBA = np.array(Image.fromarray(thawed).convert('RGBA'))\n",
    "img_final = np.zeros(img_RGBA.shape)\n",
    "for idx, x in enumerate(img_RGBA):\n",
    "    for idy, y in enumerate(x):\n",
    "        if sum(y) == 4*255:\n",
    "            img_final[idx, idy] = [0,0,0,0]\n",
    "        else:\n",
    "            img_final[idx, idy] = [255,255,255,255]\n",
    "Image.fromarray(img_final.astype(np.uint8)).save(r'C:\\Users\\romai\\Documents\\illustrators\\pathology_protocol\\imgs\\effect_freezing\\2023-06-30_T_FRE-FR-T1_FR_S2_1\\polarimetry\\550nm\\50x50_images\\WM_2_align\\selected.png')"
   ]
  },
  {
   "cell_type": "code",
   "execution_count": 107,
   "id": "5dcc8e5e",
   "metadata": {},
   "outputs": [],
   "source": [
    "import cv2\n",
    "thawed = np.sum(np.array(Image.open(r'C:\\Users\\romai\\Documents\\illustrators\\pathology_protocol\\imgs\\effect_freezing\\2023-07-03_T_FRE-FR-T2_FX_S2_1\\polarimetry\\550nm\\50x50_images\\WM_2_align\\selection.png')), axis = 2) == 0\n",
    "kernel = np.ones((5, 5), np.uint8)\n",
    "thawed = cv2.dilate(thawed.astype(np.uint8), kernel, iterations=1) == 0\n",
    "img_RGBA = np.array(Image.fromarray(thawed).convert('RGBA'))\n",
    "img_final = np.zeros(img_RGBA.shape)\n",
    "for idx, x in enumerate(img_RGBA):\n",
    "    for idy, y in enumerate(x):\n",
    "        if sum(y) == 4*255:\n",
    "            img_final[idx, idy] = [0,0,0,0]\n",
    "        else:\n",
    "            img_final[idx, idy] = [255,255,255,255]\n",
    "Image.fromarray(img_final.astype(np.uint8)).save(r'C:\\Users\\romai\\Documents\\illustrators\\pathology_protocol\\imgs\\effect_freezing\\2023-07-03_T_FRE-FR-T2_FX_S2_1\\polarimetry\\550nm\\50x50_images\\WM_2_align\\selected.png')"
   ]
  },
  {
   "cell_type": "code",
   "execution_count": null,
   "id": "8d34c5f4",
   "metadata": {},
   "outputs": [],
   "source": []
  }
 ],
 "metadata": {
  "kernelspec": {
   "display_name": "Python 3 (ipykernel)",
   "language": "python",
   "name": "python3"
  },
  "language_info": {
   "codemirror_mode": {
    "name": "ipython",
    "version": 3
   },
   "file_extension": ".py",
   "mimetype": "text/x-python",
   "name": "python",
   "nbconvert_exporter": "python",
   "pygments_lexer": "ipython3",
   "version": "3.9.16"
  }
 },
 "nbformat": 4,
 "nbformat_minor": 5
}
