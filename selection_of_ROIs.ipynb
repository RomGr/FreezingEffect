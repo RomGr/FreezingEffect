{
 "cells": [
  {
   "cell_type": "code",
   "execution_count": 1,
   "id": "58b2a9f0",
   "metadata": {},
   "outputs": [],
   "source": [
    "%load_ext autoreload\n",
    "%autoreload 2\n",
    "\n",
    "import os\n",
    "from tqdm import tqdm\n",
    "\n",
    "from processingmm import batch_processing\n",
    "from freezingeffect import selection_of_ROIs, automatic_ROI_propagation, collect_data_propagated\n",
    "from freezingeffect.helpers import load_parameters_ROIs"
   ]
  },
  {
   "cell_type": "markdown",
   "id": "6cd9b71c",
   "metadata": {},
   "source": [
    "## 1. Process the Mueller Matrices of the folders"
   ]
  },
  {
   "cell_type": "code",
   "execution_count": 2,
   "id": "c5832bb7",
   "metadata": {},
   "outputs": [
    {
     "name": "stderr",
     "output_type": "stream",
     "text": [
      "0it [00:00, ?it/s]\n"
     ]
    },
    {
     "data": {
      "text/plain": [
       "[]"
      ]
     },
     "execution_count": 2,
     "metadata": {},
     "output_type": "execute_result"
    }
   ],
   "source": [
    "# set the parameters to run the script\n",
    "data_folder_path = r'F:\\ImpactHistology\\Freezing_dev'\n",
    "directories = [data_folder_path]\n",
    "calib_directory = r'F:\\polarimetry\\calibration'\n",
    "\n",
    "# set run_all to true in order to run the pipeline on all the folders (even the ones already processed)\n",
    "# set the parameters to be used for the line visualisation with the parameter parameter_set\n",
    "batch_processing.batch_process(directories, calib_directory, run_all = False, parameter_set = 'PD')"
   ]
  },
  {
   "cell_type": "markdown",
   "id": "f4fbbdc8",
   "metadata": {},
   "source": [
    "## 2. Specify the folders that will be processed and clean them (remove precedent processing results)"
   ]
  },
  {
   "cell_type": "code",
   "execution_count": 3,
   "id": "37b77170",
   "metadata": {},
   "outputs": [
    {
     "name": "stderr",
     "output_type": "stream",
     "text": [
      "100%|██████████████████████████████████████████████████████████████████████████████████| 12/12 [00:16<00:00,  1.38s/it]\n"
     ]
    }
   ],
   "source": [
    "path_folder_temp, path_align_folder = selection_of_ROIs.create_alignment_folder()\n",
    "base_dirs = selection_of_ROIs.get_the_base_dirs(data_folder_path)\n",
    "selection_of_ROIs.clean_the_alignment_folders(path_align_folder)\n",
    "selection_of_ROIs.create_the_masks(data_folder_path)"
   ]
  },
  {
   "cell_type": "markdown",
   "id": "252563fe",
   "metadata": {},
   "source": [
    "## 3. Loop over all the folders that will be processed"
   ]
  },
  {
   "cell_type": "markdown",
   "id": "63082524",
   "metadata": {},
   "source": [
    "#### 3.1. loop over all the folders that needs to be processed"
   ]
  },
  {
   "cell_type": "code",
   "execution_count": 4,
   "id": "e44a5f57",
   "metadata": {},
   "outputs": [],
   "source": [
    "from datetime import datetime\n",
    "now = datetime.now()"
   ]
  },
  {
   "cell_type": "code",
   "execution_count": 5,
   "id": "2980fa81",
   "metadata": {},
   "outputs": [
    {
     "data": {
      "text/plain": [
       "datetime.datetime(2023, 6, 30, 17, 23, 16, 439998)"
      ]
     },
     "execution_count": 5,
     "metadata": {},
     "output_type": "execute_result"
    }
   ],
   "source": [
    "now"
   ]
  },
  {
   "cell_type": "code",
   "execution_count": 6,
   "id": "bccf5a6c",
   "metadata": {},
   "outputs": [
    {
     "data": {
      "text/plain": [
       "'30/06/2023 17:23:16'"
      ]
     },
     "execution_count": 6,
     "metadata": {},
     "output_type": "execute_result"
    }
   ],
   "source": [
    "now.strftime(\"%d/%m/%Y %H:%M:%S\")"
   ]
  },
  {
   "cell_type": "code",
   "execution_count": null,
   "id": "0f63f2bd",
   "metadata": {},
   "outputs": [
    {
     "name": "stderr",
     "output_type": "stream",
     "text": [
      " 17%|█████████████▊                                                                     | 1/6 [04:15<21:17, 255.57s/it]"
     ]
    }
   ],
   "source": [
    "# tissue_types = ['WM', 'GM']\n",
    "tissue_types = ['WM', 'GM']\n",
    "for path_folder in tqdm(base_dirs):\n",
    "    propagation_lists = {}\n",
    "    \n",
    "    for tissue_type in tissue_types:\n",
    "        # 1. set up the parameters and load the Mueller Matrix\n",
    "        WM = tissue_type == 'WM'\n",
    "        \n",
    "        if WM:\n",
    "            new_folder_name = 'WM_1'\n",
    "        else:\n",
    "            new_folder_name = 'GM_1'\n",
    "        propagated = False\n",
    "        \n",
    "        # 2. automatic selection and preparation for the propagation of the ROIs\n",
    "        propagation_lists[tissue_type] = selection_of_ROIs.square_selection(path_folder_temp, path_folder, WM, \n",
    "                                                                            tissue_type, path_align_folder)\n",
    "       \n",
    "    # 3. actually do the alignment\n",
    "    propagation_lists = automatic_ROI_propagation.generate_combined_mask(propagation_lists, path_align_folder)\n",
    "    automatic_ROI_propagation.do_alignment(path_align_folder)\n",
    "    output_folders = automatic_ROI_propagation.move_computed_folders(path_align_folder)\n",
    "    \n",
    "    # 4. and collect the data after propagation\n",
    "    for tissue_type in tissue_types:\n",
    "        WM = tissue_type == 'WM'\n",
    "        collect_data_propagated.collect_data_propagated(WM, path_align_folder, propagation_lists[tissue_type], output_folders)"
   ]
  },
  {
   "cell_type": "markdown",
   "id": "02189be7",
   "metadata": {},
   "source": [
    "## 4. Compare the parameters"
   ]
  },
  {
   "cell_type": "markdown",
   "id": "c3a29c10",
   "metadata": {},
   "source": [
    "#### 4.1. Get the folders for the measurements of interest"
   ]
  },
  {
   "cell_type": "code",
   "execution_count": null,
   "id": "9eb32c7d",
   "metadata": {},
   "outputs": [],
   "source": [
    "from freezingeffect import parameter_comparaison"
   ]
  },
  {
   "cell_type": "code",
   "execution_count": null,
   "id": "744dc610",
   "metadata": {},
   "outputs": [],
   "source": [
    "# get the parameters for the comparaison\n",
    "path_folder = data_folder_path\n",
    "wavelength, match_sequence, measurement, max_, max_nb_of_squares = parameter_comparaison.get_parameters()\n",
    "max_nb_of_squares = max_nb_of_squares * len(base_dirs)\n",
    "\n",
    "\n",
    "# and the folders containing the data\n",
    "data_folders, base_folders, to_be_removed = parameter_comparaison.get_data_folders(path_folder, wavelength, match_sequence)\n",
    "\n",
    "data_folders[0:5] + data_folders[-5:]"
   ]
  },
  {
   "cell_type": "markdown",
   "id": "f3954da1",
   "metadata": {},
   "source": [
    "#### 4.2. Get the data for the measurement"
   ]
  },
  {
   "cell_type": "code",
   "execution_count": null,
   "id": "abb04155",
   "metadata": {},
   "outputs": [],
   "source": [
    "data_types, data_fixation = parameter_comparaison.get_data(data_folders)\n",
    "\n",
    "data_fixation['GM']['F:\\\\ImpactHistology\\\\Freezing_dev\\\\2023-04-06_T_FRE-FR-T0_FR_S1_1\\\\polarimetry\\\\550nm\\\\50x50_images\\\\GM_2']"
   ]
  },
  {
   "cell_type": "code",
   "execution_count": null,
   "id": "872473a6",
   "metadata": {},
   "outputs": [],
   "source": [
    "# remove the ROI moving from white matter to grey matter and vice versa\n",
    "for data_type, dfed in data_fixation.items():\n",
    "    for folder, df in dfed.items():\n",
    "        to_remove_dfed = to_be_removed[folder.split('\\\\polarimetry')[0]]\n",
    "        for val in to_remove_dfed:\n",
    "            for fol in val:\n",
    "                if fol[0] == folder.split('\\\\')[-1].split('_align')[0]:\n",
    "                    df = df.apply(parameter_comparaison.find_match_seq, match_seq = fol[1], axis = 1)\n",
    "                    data_fixation[data_type][folder] = df"
   ]
  },
  {
   "cell_type": "code",
   "execution_count": null,
   "id": "00ee7647",
   "metadata": {},
   "outputs": [],
   "source": [
    "data_fixation['GM']['F:\\\\ImpactHistology\\\\Freezing_dev\\\\2023-04-06_T_FRE-FR-T0_FR_S1_1\\\\polarimetry\\\\550nm\\\\50x50_images\\\\GM_2']"
   ]
  },
  {
   "cell_type": "code",
   "execution_count": null,
   "id": "8d77c885",
   "metadata": {},
   "outputs": [],
   "source": [
    "#### Set up the parameters to be studied\n",
    "parameters = ['retardance', 'depolarization', 'diattenuation', 'azimuth']\n",
    "metrics = ['median', 'mean', 'max']\n",
    "times = ['T0', 'T1']\n",
    "    \n",
    "# create the directories that will be used to store the output of the analysis\n",
    "folder = parameter_comparaison.create_output_directories(measurement, data_types, parameters = parameters)"
   ]
  },
  {
   "cell_type": "code",
   "execution_count": null,
   "id": "bfed1f0a",
   "metadata": {},
   "outputs": [],
   "source": [
    "### Get the data and save it into xlsx file\n",
    "to_combine = parameter_comparaison.get_and_organize_data(data_fixation, metrics, data_types, times, folder, max_,\n",
    "                          parameters = ['retardance', 'depolarization', 'diattenuation', 'azimuth'])\n",
    "\n",
    "to_combine[('retardance', 'WM', 'median')]"
   ]
  },
  {
   "cell_type": "code",
   "execution_count": null,
   "id": "8bcf7b66",
   "metadata": {},
   "outputs": [],
   "source": [
    "to_combine_cv = {}\n",
    "for idx, val in to_combine.items():\n",
    "    if idx[0] == 'azimuth':\n",
    "        to_combine_cv[idx] = parameter_comparaison.combine_data_cv(val, len(times), azimuth = True)\n",
    "    else:\n",
    "        to_combine_cv[idx] = parameter_comparaison.combine_data_cv(val, len(times))\n",
    "        \n",
    "to_combine_cv[('retardance', 'WM', 'median')]"
   ]
  },
  {
   "cell_type": "markdown",
   "id": "2924f3c6",
   "metadata": {},
   "source": [
    "#### 4.3. Statistical analysis"
   ]
  },
  {
   "cell_type": "code",
   "execution_count": null,
   "id": "f47b7f12",
   "metadata": {},
   "outputs": [],
   "source": [
    "#### Get the data to be used for the comparisons\n",
    "# recombine the data in a different format\n",
    "data_all_recombined = parameter_comparaison.recombine_data_tests(to_combine, times)\n",
    "data_all_recombined_cv = parameter_comparaison.recombine_data_tests(to_combine_cv, times)"
   ]
  },
  {
   "cell_type": "code",
   "execution_count": null,
   "id": "7fbadbc2",
   "metadata": {},
   "outputs": [],
   "source": [
    "#### Comparaison of the means and the means of the fold change\n",
    "# perform the statistical test for both fold change and mean values\n",
    "paired_test = parameter_comparaison.t_test(data_all_recombined, times, 'median')# times[1:]])\n",
    "paired_test_cv = parameter_comparaison.t_test(data_all_recombined_cv, times, 'median')# times[1:]])\n",
    "df_grouped = parameter_comparaison.create_test_df(paired_test, parameter = 'median')\n",
    "df_grouped_cv = parameter_comparaison.create_test_df(paired_test_cv, parameter = 'median')\n",
    "df_grouped_cv"
   ]
  },
  {
   "cell_type": "code",
   "execution_count": null,
   "id": "6c0da375",
   "metadata": {},
   "outputs": [],
   "source": [
    "# finally, save the results\n",
    "path_statistical_test = os.path.join('results', measurement)\n",
    "df_grouped.to_excel(os.path.join(path_statistical_test, 'statistical_test.xlsx'))\n",
    "df_grouped_cv.to_excel(os.path.join(path_statistical_test, 'statistical_test_cv.xlsx'))"
   ]
  },
  {
   "cell_type": "markdown",
   "id": "6142a011",
   "metadata": {},
   "source": [
    "#### 4.4. Combine the results in a single excel file"
   ]
  },
  {
   "cell_type": "code",
   "execution_count": null,
   "id": "e1d4b263",
   "metadata": {},
   "outputs": [],
   "source": [
    "# this cell allows to combine the data obtained for both grey and white matter in a table that can then be used\n",
    "# to plot the results using Graphpad Prism\n",
    "retardance = {}\n",
    "depolarization = {}\n",
    "for key, param in to_combine.items():\n",
    "    if key[0] == 'retardance' and key[2] == 'median':\n",
    "        retardance[key[1]] = param\n",
    "    elif key[0] == 'depolarization' and key[2] == 'median':\n",
    "        depolarization[key[1]] = param\n",
    "        \n",
    "retardance_cv = {}\n",
    "depolarization_cv = {}\n",
    "azimuth_cv = {}\n",
    "for key, param in to_combine_cv.items():\n",
    "    if key[0] == 'retardance' and key[2] == 'median':\n",
    "        retardance_cv[key[1]] = param\n",
    "    elif key[0] == 'depolarization' and key[2] == 'median':\n",
    "        depolarization_cv[key[1]] = param\n",
    "    else:\n",
    "        if key[2] == 'mean':\n",
    "            azimuth_cv[key[1]] = param\n",
    "        \n",
    "retardance = parameter_comparaison.create_df_prism(retardance, max_nb_of_squares)\n",
    "depolarization = parameter_comparaison.create_df_prism(depolarization, max_nb_of_squares)\n",
    "    \n",
    "retardance_cv = parameter_comparaison.create_df_prism(retardance_cv, max_nb_of_squares)\n",
    "depolarization_cv = parameter_comparaison.create_df_prism(depolarization_cv, max_nb_of_squares)\n",
    "azimuth_cv = parameter_comparaison.create_df_prism(azimuth_cv, max_nb_of_squares)\n",
    "\n",
    "retardance_cv"
   ]
  },
  {
   "cell_type": "code",
   "execution_count": null,
   "id": "32fc285d",
   "metadata": {},
   "outputs": [],
   "source": [
    "# finally save all the tables\n",
    "path_data_prism = os.path.join('results', measurement)\n",
    "retardance.to_excel(os.path.join(path_data_prism, \"retardance_prism.xlsx\"))\n",
    "depolarization.to_excel(os.path.join(path_data_prism, \"depolarization_prism.xlsx\"))\n",
    "retardance_cv.to_excel(os.path.join(path_data_prism, \"retardance_prism_cv.xlsx\"))\n",
    "depolarization_cv.to_excel(os.path.join(path_data_prism, \"depolarization_prism_cv.xlsx\"))\n",
    "azimuth_cv.to_excel(os.path.join(path_data_prism, \"azimuth_prism_cv.xlsx\"))"
   ]
  },
  {
   "cell_type": "code",
   "execution_count": null,
   "id": "90e9227a",
   "metadata": {},
   "outputs": [],
   "source": []
  },
  {
   "cell_type": "code",
   "execution_count": null,
   "id": "55d01ea2",
   "metadata": {},
   "outputs": [],
   "source": []
  }
 ],
 "metadata": {
  "kernelspec": {
   "display_name": "Python 3 (ipykernel)",
   "language": "python",
   "name": "python3"
  },
  "language_info": {
   "codemirror_mode": {
    "name": "ipython",
    "version": 3
   },
   "file_extension": ".py",
   "mimetype": "text/x-python",
   "name": "python",
   "nbconvert_exporter": "python",
   "pygments_lexer": "ipython3",
   "version": "3.9.16"
  }
 },
 "nbformat": 4,
 "nbformat_minor": 5
}
